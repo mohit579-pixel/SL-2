{
  "nbformat": 4,
  "nbformat_minor": 0,
  "metadata": {
    "colab": {
      "provenance": [],
      "authorship_tag": "ABX9TyP/tAcCgk0tbYX0h7kRSCsd",
      "include_colab_link": true
    },
    "kernelspec": {
      "name": "python3",
      "display_name": "Python 3"
    },
    "language_info": {
      "name": "python"
    }
  },
  "cells": [
    {
      "cell_type": "markdown",
      "metadata": {
        "id": "view-in-github",
        "colab_type": "text"
      },
      "source": [
        "<a href=\"https://colab.research.google.com/github/mohit579-pixel/SL-2/blob/main/Ass2.ipynb\" target=\"_parent\"><img src=\"https://colab.research.google.com/assets/colab-badge.svg\" alt=\"Open In Colab\"/></a>"
      ]
    },
    {
      "cell_type": "markdown",
      "source": [
        "ANDNOT Model if first neuron is true and second is false then only the output will be TRUE(FIRE-STATE)\n"
      ],
      "metadata": {
        "id": "EiAKY6qaL16h"
      }
    },
    {
      "cell_type": "code",
      "execution_count": 10,
      "metadata": {
        "colab": {
          "base_uri": "https://localhost:8080/"
        },
        "id": "Jb-VJBrILynD",
        "outputId": "10716ca0-63c6-4818-bf88-ab3729b29e60"
      },
      "outputs": [
        {
          "output_type": "stream",
          "name": "stdout",
          "text": [
            "Invalid for x1=0, x2=0\n",
            "Invalid for x1=0, x2=1\n",
            "Invalid for x1=1, x2=0\n",
            "Invalid for x1=1, x2=1\n"
          ]
        }
      ],
      "source": [
        "x1 = [0, 0, 1, 1]\n",
        "x2 = [0, 1, 0, 1]\n",
        "out = [0, 0, 1, 0]\n",
        "\n",
        "def take_input(weight1, weight2):\n",
        "    for i in range(4):\n",
        "        check = weight1 * x1[i] + weight2 * x2[i]\n",
        "        if check<0:\n",
        "          check=0\n",
        "        if check != out[i]:\n",
        "            print(f\"Valid for x1={x1[i]}, x2={x2[i]}\")\n",
        "        else:\n",
        "            print(f\"Invalid for x1={x1[i]}, x2={x2[i]}\")\n",
        "\n",
        "take_input(1, -1)\n"
      ]
    }
  ]
}